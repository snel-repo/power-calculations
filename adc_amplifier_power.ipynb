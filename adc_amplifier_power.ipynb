{
 "cells": [
  {
   "cell_type": "code",
   "execution_count": 1,
   "id": "abdd89f3-a05a-41b6-8879-acfaf25c8189",
   "metadata": {},
   "outputs": [],
   "source": [
    "# %% Import libraries\n",
    "\n",
    "import json, os, matplotlib\n",
    "import matplotlib.pyplot as plt\n",
    "import numpy as np\n",
    "\n",
    "# plot formatting \n",
    "plt.rcParams.update({'font.size': 10})\n",
    "plt.rcParams.update({'font.family': 'Arial'})\n",
    "# editable text in illustrator\n",
    "matplotlib.rcParams['pdf.fonttype'] = 42\n",
    "matplotlib.rcParams['ps.fonttype'] = 42\n",
    "matplotlib.rcParams['axes.spines.top'] = False\n",
    "matplotlib.rcParams['axes.spines.right'] = False\n",
    "matplotlib.rcParams['xtick.bottom'] = False\n",
    "matplotlib.rcParams['ytick.left'] = False"
   ]
  },
  {
   "cell_type": "markdown",
   "metadata": {},
   "source": [
    "First, we define the frequency bands of interest."
   ]
  },
  {
   "cell_type": "code",
   "execution_count": 2,
   "id": "4155a0d3-62ee-4751-9725-fa8ad858d4b2",
   "metadata": {},
   "outputs": [],
   "source": [
    "freq_bands = [\n",
    "    [5, 10e3], # HB Tx\n",
    "    [500, 3000], # LB Tx\n",
    "    [0, 1000], # 2kHz data \n",
    "    [300, 1000], # SBP \n",
    "    [150, 450], # HF LFP \n",
    "    [100, 200], \n",
    "    [50, 100],\n",
    "    [25, 50], \n",
    "    [0, 25],\n",
    "]"
   ]
  },
  {
   "cell_type": "markdown",
   "metadata": {},
   "source": [
    "Next, we define a function that computes the amplifier power given the signal bandwidth using the Noise Efficiency Factor (NEF) formula."
   ]
  },
  {
   "cell_type": "code",
   "execution_count": 3,
   "metadata": {},
   "outputs": [],
   "source": [
    "def amp_power(bandwidth=0): \n",
    "    '''\n",
    "    Inputs\n",
    "        bandwidth: float\n",
    "            bandwidth of the signal in Hz\n",
    "    \n",
    "    Returns \n",
    "        power: float\n",
    "            amplifier power in W\n",
    "    '''\n",
    "    NEF = 4.0\n",
    "    Vrms = 2e-6 #V\n",
    "    Ut =  26.7*1e-3 #V\n",
    "    k = 1.38e-23\n",
    "    T = 310\n",
    "    V = 3.3 # V \n",
    "\n",
    "    I = (NEF/Vrms) ** 2 * ((np.pi * Ut * 4 * k * T * bandwidth) / 2)\n",
    "\n",
    "    return V * I "
   ]
  },
  {
   "cell_type": "markdown",
   "metadata": {},
   "source": [
    "We compute the amplifier power for each frequency band of interest, convert it to mW, and plot. This figure replicates Figure 1b."
   ]
  },
  {
   "cell_type": "code",
   "execution_count": 4,
   "id": "0abd5a3e-ba63-4b19-b89a-63528df9713f",
   "metadata": {},
   "outputs": [],
   "source": [
    "#%% \n",
    "amp_powers = [] # mW\n",
    "for fb in freq_bands: \n",
    "    bandwidth = fb[1] - fb[0]\n",
    "    amp_powers.append(amp_power(bandwidth=bandwidth) * 1e3)"
   ]
  },
  {
   "cell_type": "code",
   "execution_count": 5,
   "id": "67311ddd-f3da-4f11-9dd2-095a879e00b9",
   "metadata": {},
   "outputs": [
    {
     "data": {
      "text/plain": [
       "[<matplotlib.axis.YTick at 0x7eff6d30afd0>,\n",
       " <matplotlib.axis.YTick at 0x7eff6d30a790>,\n",
       " <matplotlib.axis.YTick at 0x7f01ac7b1310>,\n",
       " <matplotlib.axis.YTick at 0x7eff6d27ae50>,\n",
       " <matplotlib.axis.YTick at 0x7eff6d281610>,\n",
       " <matplotlib.axis.YTick at 0x7eff6d27a5d0>]"
      ]
     },
     "execution_count": 5,
     "metadata": {},
     "output_type": "execute_result"
    },
    {
     "name": "stderr",
     "output_type": "stream",
     "text": [
      "findfont: Font family ['Arial'] not found. Falling back to DejaVu Sans.\n"
     ]
    },
    {
     "data": {
      "image/png": "[encoded data removed]",
      "text/plain": [
       "<Figure size 360x288 with 1 Axes>"
      ]
     },
     "metadata": {
      "needs_background": "light"
     },
     "output_type": "display_data"
    }
   ],
   "source": [
    "# %%\n",
    "\n",
    "fig, ax = plt.subplots(1, 1, figsize=(5, 4))\n",
    "bar_width = 0.5\n",
    "index = np.arange(len(freq_bands))\n",
    "ax.bar(index, amp_powers, np.array(bar_width), color='darkblue', zorder=1000)\n",
    "\n",
    "ax.set_xlabel('Frequency Band (Hz)')\n",
    "ax.set_ylabel('Power per Channel (mW)')\n",
    "\n",
    "for i in range(len(amp_powers)):\n",
    "    ax.text(index[i], amp_powers[i] + 0.002, '{:.1e}'.format(amp_powers[i]), ha='center', va='bottom', rotation=90)\n",
    "\n",
    "ax.set_xticks(index)\n",
    "ax.set_xticklabels(\n",
    "    [f'{int(fb[0])} - {int(fb[1])}' for fb in freq_bands], rotation=90\n",
    ")\n",
    "\n",
    "ax.tick_params(axis='y', which='both', left=False, right=False, labelleft=True, labelright=False)\n",
    "\n",
    "ax.grid(axis='y', alpha=0.3, zorder=-1)\n",
    "\n",
    "ax.set_yticks([0, 0.02, 0.04, 0.06, 0.08, 0.1])"
   ]
  },
  {
   "cell_type": "markdown",
   "metadata": {},
   "source": [
    "Next we define a function that computes the ADC power by solving the Schreier Figure of Merit (FoMs) given the sampling bandwidth."
   ]
  },
  {
   "cell_type": "code",
   "execution_count": 7,
   "id": "8bc2595a-05a0-41fa-9529-be9649b64ad7",
   "metadata": {},
   "outputs": [],
   "source": [
    "def adc_power(bandwidth = 0):\n",
    "    '''\n",
    "    Inputs\n",
    "        bandwidth: float\n",
    "            sampling bandwidth (half of the sampling rate) in Hz\n",
    "    \n",
    "    Returns \n",
    "        power: float\n",
    "            ADC power in W\n",
    "    '''\n",
    "    SNDR = 96 #dB\n",
    "    FoMS = 185 #dB\n",
    "\n",
    "    denom = 10 ** ((FoMS - SNDR)/10.)\n",
    "    return bandwidth/denom "
   ]
  },
  {
   "cell_type": "markdown",
   "metadata": {},
   "source": [
    "We compute the ADC power for each frequency band of interest, convert it to mW, and plot. This figure replicates Figure 1c."
   ]
  },
  {
   "cell_type": "code",
   "execution_count": 8,
   "id": "a9cbe4e7-274d-4dd1-9578-20f88d7b0239",
   "metadata": {},
   "outputs": [],
   "source": [
    "adc_powers = [] # mW\n",
    "for fb in freq_bands: \n",
    "    bandwidth = fb[1]\n",
    "    adc_powers.append(adc_power(bandwidth=bandwidth) * 1e3)"
   ]
  },
  {
   "cell_type": "code",
   "execution_count": 9,
   "id": "432d90bf-4802-43bf-a2b6-75a539189efd",
   "metadata": {},
   "outputs": [
    {
     "data": {
      "text/plain": [
       "[<matplotlib.axis.YTick at 0x7eff6cb83e50>,\n",
       " <matplotlib.axis.YTick at 0x7eff6cb83590>,\n",
       " <matplotlib.axis.YTick at 0x7eff763da190>]"
      ]
     },
     "execution_count": 9,
     "metadata": {},
     "output_type": "execute_result"
    },
    {
     "data": {
      "image/png": "[encoded data removed]",
      "text/plain": [
       "<Figure size 360x288 with 1 Axes>"
      ]
     },
     "metadata": {
      "needs_background": "light"
     },
     "output_type": "display_data"
    }
   ],
   "source": [
    "# %%\n",
    "\n",
    "fig, ax = plt.subplots(1, 1, figsize=(5, 4))\n",
    "bar_width = 0.5\n",
    "index = np.arange(len(freq_bands))\n",
    "ax.bar(index, adc_powers, np.array(bar_width), color='darkblue', zorder=1000)\n",
    "\n",
    "ax.set_xlabel('Frequency Band (Hz)')\n",
    "ax.set_ylabel('Power per Channel (mW)')\n",
    "\n",
    "for i in range(len(adc_powers)):\n",
    "    ax.text(index[i], adc_powers[i] + 0.001, '{:.1e}'.format(adc_powers[i]), ha='center', va='bottom', rotation=90)\n",
    "\n",
    "ax.set_xticks(index)\n",
    "ax.set_xticklabels(\n",
    "    [f'{int(fb[0])} - {int(fb[1])}' for fb in freq_bands], rotation=90\n",
    ")\n",
    "\n",
    "ax.tick_params(axis='y', which='both', left=False, right=False, labelleft=True, labelright=False)\n",
    "\n",
    "ax.grid(axis='y', alpha=0.3, zorder=-1)\n",
    "\n",
    "ax.set_yticks([0, 0.01, 0.02])"
   ]
  }
 ],
 "metadata": {
  "kernelspec": {
   "display_name": "lfp-A40",
   "language": "python",
   "name": "python3"
  },
  "language_info": {
   "codemirror_mode": {
    "name": "ipython",
    "version": 3
   },
   "file_extension": ".py",
   "mimetype": "text/x-python",
   "name": "python",
   "nbconvert_exporter": "python",
   "pygments_lexer": "ipython3",
   "version": "3.7.16"
  }
 },
 "nbformat": 4,
 "nbformat_minor": 2
}
